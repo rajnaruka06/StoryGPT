{
 "cells": [
  {
   "cell_type": "code",
   "execution_count": 1,
   "metadata": {},
   "outputs": [],
   "source": [
    "from bpe import BPE\n",
    "import torch\n",
    "from model import Model"
   ]
  },
  {
   "cell_type": "code",
   "execution_count": 8,
   "metadata": {},
   "outputs": [
    {
     "data": {
      "text/plain": [
       "Model(\n",
       "  (lang_embedding): Embedding(512, 128, padding_idx=175)\n",
       "  (decoder): Decoder_layer(\n",
       "    (blocks): ModuleList(\n",
       "      (0-2): 3 x DecoderBlock(\n",
       "        (multi_head_attention): MultiHeadAttention(\n",
       "          (heads): ModuleList(\n",
       "            (0-7): 8 x attention_head(\n",
       "              (K): Linear(in_features=128, out_features=256, bias=False)\n",
       "              (Q): Linear(in_features=128, out_features=256, bias=False)\n",
       "              (V): Linear(in_features=128, out_features=256, bias=False)\n",
       "              (dropout): Dropout(p=0.3, inplace=False)\n",
       "              (softmax): Softmax(dim=-1)\n",
       "            )\n",
       "          )\n",
       "          (linear): Linear(in_features=2048, out_features=128, bias=False)\n",
       "        )\n",
       "        (norm1): LayerNorm((128,), eps=1e-05, elementwise_affine=True)\n",
       "        (feed_forward): Sequential(\n",
       "          (0): Linear(in_features=128, out_features=512, bias=True)\n",
       "          (1): ReLU()\n",
       "          (2): Linear(in_features=512, out_features=128, bias=True)\n",
       "        )\n",
       "        (norm2): LayerNorm((128,), eps=1e-05, elementwise_affine=True)\n",
       "      )\n",
       "    )\n",
       "  )\n",
       "  (linear): Linear(in_features=128, out_features=512, bias=False)\n",
       "  (softmax): Softmax(dim=-1)\n",
       ")"
      ]
     },
     "execution_count": 8,
     "metadata": {},
     "output_type": "execute_result"
    }
   ],
   "source": [
    "tokenizer = BPE()\n",
    "tokenizer.from_json(\"Saved_Vocab/vocab_v2.json\")\n",
    "tokenizer.EOS_TOKEN = \"<EOS>\"\n",
    "tokenizer.PAD_TOKEN = \"<PAD>\"\n",
    "DEVICE = torch.device(\"cuda\" if torch.cuda.is_available() else \"cpu\")\n",
    "CONTEXT_LENGTH = 256\n",
    "EMBEDDING_DIM = 128\n",
    "D_MODEL = 256\n",
    "\n",
    "model = Model(\n",
    "    num_heads=8\n",
    "    , d_model=D_MODEL\n",
    "    , vocab_size=tokenizer.vocab_size\n",
    "    , num_layers=3\n",
    "    , dropout=0.3\n",
    "    , context_length=CONTEXT_LENGTH\n",
    "    , embedding_dim=EMBEDDING_DIM\n",
    "    , padding_idx=tokenizer.encode_vocab[tokenizer.PAD_TOKEN]\n",
    "    )\n",
    "model.to(DEVICE)\n",
    "model.load_state_dict(torch.load(\"Saved_Models/model_v4.pth\"))\n",
    "model.eval()"
   ]
  },
  {
   "cell_type": "code",
   "execution_count": 9,
   "metadata": {},
   "outputs": [],
   "source": [
    "num_beams =  3\n",
    "context = \"Once upon a time\"\n",
    "max_length = 10\n",
    "device = DEVICE"
   ]
  },
  {
   "cell_type": "code",
   "execution_count": 24,
   "metadata": {},
   "outputs": [
    {
     "name": "stdout",
     "output_type": "stream",
     "text": [
      "[[290, 420, 313, 197, 69, 317, 69, 185, 288, 2], [235, 90, 207, 176, 188, 228, 234, 2, 70, 90], [235, 90, 207, 176, 188, 228, 234, 2, 272, 198]]\n"
     ]
    }
   ],
   "source": [
    "import torch\n",
    "\n",
    "context_ids = tokenizer.encode(context)[:-1]\n",
    "context_ids = torch.Tensor(context_ids).long().to(device)\n",
    "\n",
    "generated_sequences = []\n",
    "generated_scores = []\n",
    "\n",
    "with torch.no_grad():\n",
    "    ## Initial beam of sequences\n",
    "    outputs = model(context_ids.unsqueeze(0)[:,-model.context_length:]) ## Probs for the next token, (1, context_length, vocab_size)\n",
    "    log_probs = torch.log(outputs[:, -1, :]) ## log probs (, vocab_size)\n",
    "    top_scores, top_indices = torch.topk(log_probs, num_beams)\n",
    "    \n",
    "    for score, index in zip(top_scores[0], top_indices[0]):\n",
    "        generated_sequences.append([index.item()])\n",
    "        generated_scores.append(score.item())\n",
    "    \n",
    "\n",
    "    ## Expanding the beams until all sequences reach the end or maximum length\n",
    "    for _ in range(max_length):\n",
    "        new_sequences = []\n",
    "        new_scores = []\n",
    "        for seq, score in zip(generated_sequences, generated_scores):\n",
    "            if seq[-1] == tokenizer.encode_vocab[tokenizer.EOS_TOKEN] or len(seq) >= max_length:\n",
    "                new_sequences.append(seq)\n",
    "                new_scores.append(score)\n",
    "            else:\n",
    "                # Scores for the next token based on the current sequence\n",
    "                input_ids = torch.tensor(seq).long().to(device)\n",
    "                # outputs = model(input_ids)\n",
    "                outputs = model(input_ids.unsqueeze(0)[:,-model.context_length:])\n",
    "                # log_probs = torch.log_softmax(outputs[:, -1, :], dim=-1)\n",
    "                log_probs = torch.log(outputs[:, -1, :])\n",
    "                top_scores, top_indices = torch.topk(log_probs, num_beams)\n",
    "                for s, i in zip(top_scores[0], top_indices[0]):\n",
    "                    new_seq = seq + [i.item()]\n",
    "                    new_sequences.append(new_seq)\n",
    "                    new_scores.append(score + s.item())\n",
    "        \n",
    "        # Updating the top-k sequences\n",
    "        combined = list(zip(new_sequences, new_scores))\n",
    "        combined.sort(key=lambda x: x[1], reverse=True)\n",
    "        generated_sequences = [s for s, _ in combined[:num_beams]]\n",
    "        generated_scores = [s for _, s in combined[:num_beams]]\n",
    "    \n",
    "    print(generated_sequences)\n"
   ]
  },
  {
   "cell_type": "code",
   "execution_count": null,
   "metadata": {},
   "outputs": [],
   "source": []
  }
 ],
 "metadata": {
  "kernelspec": {
   "display_name": "Python 3",
   "language": "python",
   "name": "python3"
  },
  "language_info": {
   "codemirror_mode": {
    "name": "ipython",
    "version": 3
   },
   "file_extension": ".py",
   "mimetype": "text/x-python",
   "name": "python",
   "nbconvert_exporter": "python",
   "pygments_lexer": "ipython3",
   "version": "3.12.2"
  }
 },
 "nbformat": 4,
 "nbformat_minor": 2
}
