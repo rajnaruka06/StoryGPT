{
 "cells": [
  {
   "cell_type": "markdown",
   "metadata": {},
   "source": [
    "## Data Loading and Preprocessing\n",
    "- Build Tokenizer, Vocab, Encoder and Decoder Functions"
   ]
  },
  {
   "cell_type": "code",
   "execution_count": 1,
   "metadata": {},
   "outputs": [
    {
     "name": "stderr",
     "output_type": "stream",
     "text": [
      "c:\\Users\\rajna\\AppData\\Local\\Programs\\Python\\Python312\\Lib\\site-packages\\tqdm\\auto.py:21: TqdmWarning: IProgress not found. Please update jupyter and ipywidgets. See https://ipywidgets.readthedocs.io/en/stable/user_install.html\n",
      "  from .autonotebook import tqdm as notebook_tqdm\n",
      "Repo card metadata block was not found. Setting CardData to empty.\n",
      "Downloading data: 100%|██████████| 249M/249M [00:25<00:00, 9.57MB/s] \n",
      "Downloading data: 100%|██████████| 248M/248M [00:15<00:00, 16.3MB/s] \n",
      "Downloading data: 100%|██████████| 246M/246M [00:15<00:00, 16.0MB/s] \n",
      "Downloading data: 100%|██████████| 248M/248M [00:20<00:00, 12.4MB/s] \n",
      "Downloading data: 100%|██████████| 9.99M/9.99M [00:00<00:00, 10.7MB/s]\n",
      "Generating train split: 2119719 examples [00:02, 788965.38 examples/s]\n",
      "Generating validation split: 21990 examples [00:00, 510009.93 examples/s]\n"
     ]
    }
   ],
   "source": [
    "from datasets import load_dataset\n",
    "\n",
    "dataset = load_dataset(\"roneneldan/TinyStories\")\n",
    "\n",
    "train_text = dataset['train']['text']\n",
    "val_text = dataset['validation']['text']\n",
    "\n",
    "del dataset\n",
    "\n",
    "import json\n",
    "\n",
    "with open(\"train_data.json\", 'w') as file:\n",
    "    json.dump(train_text, file)\n",
    "\n",
    "with open(\"val_data.json\", 'w') as file:\n",
    "    json.dump(val_text, file)"
   ]
  },
  {
   "cell_type": "code",
   "execution_count": 1,
   "metadata": {},
   "outputs": [],
   "source": [
    "import json\n",
    "with open(\"train_data.json\", \"r\") as f:\n",
    "    train_text = json.load(f)"
   ]
  },
  {
   "cell_type": "code",
   "execution_count": 2,
   "metadata": {},
   "outputs": [
    {
     "name": "stdout",
     "output_type": "stream",
     "text": [
      "174\n"
     ]
    }
   ],
   "source": [
    "vocab = set()\n",
    "for text in train_text:\n",
    "    vocab.update(text)\n",
    "\n",
    "print(len(vocab))"
   ]
  },
  {
   "cell_type": "code",
   "execution_count": 3,
   "metadata": {},
   "outputs": [
    {
     "ename": "",
     "evalue": "",
     "output_type": "error",
     "traceback": [
      "\u001b[1;31mThe Kernel crashed while executing code in the current cell or a previous cell. \n",
      "\u001b[1;31mPlease review the code in the cell(s) to identify a possible cause of the failure. \n",
      "\u001b[1;31mClick <a href='https://aka.ms/vscodeJupyterKernelCrash'>here</a> for more info. \n",
      "\u001b[1;31mView Jupyter <a href='command:jupyter.viewOutput'>log</a> for further details."
     ]
    }
   ],
   "source": [
    "EOS_TOKEN = \"<EOS>\" ## End Of Story\n",
    "PAD_TOKEN = \"<PAD>\" ## Padding\n",
    "\n",
    "decode_vocab = list(vocab)\n",
    "decode_vocab.sort()\n",
    "decode_vocab.append(EOS_TOKEN)\n",
    "decode_vocab.append(PAD_TOKEN)\n",
    "encode_vocab = {text: idx for idx, text in enumerate(decode_vocab)}"
   ]
  },
  {
   "cell_type": "code",
   "execution_count": 2,
   "metadata": {},
   "outputs": [],
   "source": [
    "def encode(text):\n",
    "    # text += EOS_TOKEN\n",
    "    # n = len(text)\n",
    "    # idx = 0\n",
    "    # encoded_text = []\n",
    "    # while idx < n:\n",
    "    #     jdx = n\n",
    "    #     while jdx > idx and text[idx:jdx] not in encode_vocab:\n",
    "    #         jdx -= 1\n",
    "    #     token = text[idx:jdx]\n",
    "    #     encoded_text.append(encode_vocab[token])\n",
    "    #     idx = jdx\n",
    "    # return encoded_text\n",
    "\n",
    "    tokens = [encode_vocab[token] for token in text]\n",
    "    tokens.append(encode_vocab[EOS_TOKEN])\n",
    "\n",
    "    while True:\n",
    "        encoded_text = []\n",
    "        idx = 0\n",
    "        while idx < len(tokens):\n",
    "            if tokens[idx] == encode_vocab[EOS_TOKEN]:\n",
    "                encoded_text.append(tokens[idx])\n",
    "                idx += 1\n",
    "            else:\n",
    "                try:\n",
    "                    new_token = encode_vocab[decode(tokens[idx: idx + 2])]\n",
    "                    encoded_text.append(new_token)\n",
    "                    idx += 2\n",
    "                except:\n",
    "                    encoded_text.append(tokens[idx])\n",
    "                    idx += 1\n",
    "        \n",
    "        if len(encoded_text) >= len(tokens): return encoded_text\n",
    "        tokens = encoded_text\n",
    "\n",
    "def decode(encoded_text):\n",
    "    return \"\".join([decode_vocab[idx] for idx in encoded_text])\n",
    "\n",
    "\n",
    "# decode(encode(train_text[0])) == train_text[0] + EOS_TOKEN"
   ]
  },
  {
   "cell_type": "code",
   "execution_count": 5,
   "metadata": {},
   "outputs": [
    {
     "data": {
      "text/plain": [
       "<BarContainer object of 4035 artists>"
      ]
     },
     "execution_count": 5,
     "metadata": {},
     "output_type": "execute_result"
    },
    {
     "data": {
      "image/png": "[encoded data removed]",
      "text/plain": [
       "<Figure size 640x480 with 1 Axes>"
      ]
     },
     "metadata": {},
     "output_type": "display_data"
    }
   ],
   "source": [
    "from collections import Counter\n",
    "import matplotlib.pyplot as plt\n",
    "\n",
    "dist = Counter([len(text) for text in train_text])\n",
    "plt.bar(dist.keys(), dist.values())"
   ]
  },
  {
   "cell_type": "code",
   "execution_count": 6,
   "metadata": {},
   "outputs": [
    {
     "data": {
      "text/plain": [
       "2119719"
      ]
     },
     "execution_count": 6,
     "metadata": {},
     "output_type": "execute_result"
    }
   ],
   "source": [
    "len(train_text)"
   ]
  },
  {
   "cell_type": "code",
   "execution_count": 7,
   "metadata": {},
   "outputs": [],
   "source": [
    "# from tqdm import tqdm\n",
    "# freq_dist = Counter()\n",
    "\n",
    "# for text in train_text:\n",
    "#     tokens = encode(text)\n",
    "#     for idx in range(len(tokens) - 1):\n",
    "#         freq_dist[(tokens[idx], tokens[idx + 1])] += 1\n",
    "\n",
    "# with tqdm(total=len(train_text), desc=\"Processing texts\") as pbar:\n",
    "#     for text in train_text:\n",
    "#         tokens = encode(text)\n",
    "#         for idx in range(len(tokens) - 1):\n",
    "#             freq_dist[(tokens[idx], tokens[idx + 1])] += 1\n",
    "#         pbar.update(1)\n",
    "\n",
    "\n",
    "## SOmehow not working --> No process in tqdm --> Issue was with jupyter kernel, it works with .py file\n",
    "## Windows Defender is blocking the process\n",
    "## Tried excluding as well but not working\n",
    "## Tried turning off real time protection but not working\n",
    "\n",
    "\n",
    "# from multiprocessing import Pool\n",
    "# from tqdm import tqdm\n",
    "\n",
    "# def process_text(text):\n",
    "#     tokens = encode(text) \n",
    "#     freq_dist = Counter()\n",
    "#     for idx in range(len(tokens) - 1): freq_dist[(tokens[idx], tokens[idx + 1])] += 1\n",
    "#     return freq_dist\n",
    "\n",
    "# final_freq_dist = Counter()\n",
    "\n",
    "# with Pool(processes = 16) as pool:\n",
    "#     for partial_freq_dist in tqdm(pool.imap_unordered(process_text, train_text[:100_000]), total=100_000, desc=\"Processing texts\"):\n",
    "#         final_freq_dist.update(partial_freq_dist)"
   ]
  },
  {
   "cell_type": "code",
   "execution_count": 8,
   "metadata": {},
   "outputs": [],
   "source": [
    "## Ideally we should update the most frequent pairs in one iteration. But that'll take too mcuh time for learning\n",
    "## Maybe after learninng BPE, I can just import GPT2 tokenizer and carry on with model definition and training\n",
    "\n",
    "# for (elem, freq) in freq_dist.most_common(100):\n",
    "#     text = decode(elem)\n",
    "#     decode_vocab.append(text)\n",
    "#     encode_vocab[text] = len(decode_vocab) - 1"
   ]
  },
  {
   "cell_type": "code",
   "execution_count": 18,
   "metadata": {},
   "outputs": [],
   "source": [
    "from tqdm import tqdm\n",
    "\n",
    "def get_freq_dist(corpus):\n",
    "    freq_dist = Counter()\n",
    "    with tqdm(total=len(corpus), desc=\"Processing texts\") as pbar:\n",
    "        for text in corpus:\n",
    "            tokens = encode(text)\n",
    "            for idx in range(len(tokens) - 1):\n",
    "                freq_dist[(tokens[idx], tokens[idx + 1])] += 1\n",
    "            pbar.update(1)\n",
    "    \n",
    "    return freq_dist\n",
    "\n",
    "# def update_vocab(freq_dist, num_updates):\n",
    "#     for (elem, freq) in freq_dist.most_common(num_updates):\n",
    "#         text = decode(elem)\n",
    "#         decode_vocab.append(text)\n",
    "#         encode_vocab[text] = len(decode_vocab) - 1\n",
    "\n",
    "\n",
    "def update_vocab(freq_dist):\n",
    "    most_common_freq = freq_dist.most_common(1)[0][1]\n",
    "    for (elem, freq) in freq_dist.most_common():\n",
    "        if freq < most_common_freq * 0.9 or len(decode_vocab) == VOCAB_SIZE: break\n",
    "        text = decode(elem)\n",
    "        encode_vocab[text] = len(decode_vocab)\n",
    "        decode_vocab.append(text)"
   ]
  },
  {
   "cell_type": "code",
   "execution_count": 1,
   "metadata": {},
   "outputs": [
    {
     "ename": "NameError",
     "evalue": "name 'Counter' is not defined",
     "output_type": "error",
     "traceback": [
      "\u001b[1;31m---------------------------------------------------------------------------\u001b[0m",
      "\u001b[1;31mNameError\u001b[0m                                 Traceback (most recent call last)",
      "Cell \u001b[1;32mIn[1], line 3\u001b[0m\n\u001b[0;32m      1\u001b[0m \u001b[38;5;28;01mfrom\u001b[39;00m \u001b[38;5;21;01mmultiprocessing\u001b[39;00m \u001b[38;5;28;01mimport\u001b[39;00m Pool\n\u001b[1;32m----> 3\u001b[0m final_freq_dist \u001b[38;5;241m=\u001b[39m \u001b[43mCounter\u001b[49m()\n\u001b[0;32m      4\u001b[0m \u001b[38;5;28;01mwith\u001b[39;00m Pool(processes \u001b[38;5;241m=\u001b[39m \u001b[38;5;241m4\u001b[39m) \u001b[38;5;28;01mas\u001b[39;00m pool:\n\u001b[0;32m      5\u001b[0m     \u001b[38;5;28;01mfor\u001b[39;00m partial_freq_dist \u001b[38;5;129;01min\u001b[39;00m pool\u001b[38;5;241m.\u001b[39mimap_unordered(get_freq_dist, train_text):\n",
      "\u001b[1;31mNameError\u001b[0m: name 'Counter' is not defined"
     ]
    }
   ],
   "source": [
    "# from multiprocessing import Pool\n",
    "\n",
    "# final_freq_dist = Counter()\n",
    "# with Pool(processes = 4) as pool:\n",
    "#     for partial_freq_dist in pool.imap_unordered(get_freq_dist, train_text):\n",
    "#         final_freq_dist.update(partial_freq_dist)\n",
    "\n",
    "# update_vocab(final_freq_dist)"
   ]
  },
  {
   "cell_type": "code",
   "execution_count": 17,
   "metadata": {},
   "outputs": [
    {
     "name": "stderr",
     "output_type": "stream",
     "text": [
      "Processing texts:   4%|▎         | 76548/2119719 [00:52<23:10, 1469.24it/s]\n"
     ]
    },
    {
     "ename": "KeyboardInterrupt",
     "evalue": "",
     "output_type": "error",
     "traceback": [
      "\u001b[1;31m---------------------------------------------------------------------------\u001b[0m",
      "\u001b[1;31mKeyboardInterrupt\u001b[0m                         Traceback (most recent call last)",
      "Cell \u001b[1;32mIn[17], line 6\u001b[0m\n\u001b[0;32m      3\u001b[0m \u001b[38;5;66;03m# while len(decode_vocab) < VOCAB_SIZE:\u001b[39;00m\n\u001b[0;32m      4\u001b[0m \u001b[38;5;66;03m#     num_iters += 1\u001b[39;00m\n\u001b[0;32m      5\u001b[0m \u001b[38;5;28;01mfor\u001b[39;00m \u001b[38;5;28miter\u001b[39m \u001b[38;5;129;01min\u001b[39;00m \u001b[38;5;28mrange\u001b[39m(\u001b[38;5;241m10\u001b[39m):\n\u001b[1;32m----> 6\u001b[0m     freq_dist \u001b[38;5;241m=\u001b[39m \u001b[43mget_freq_dist\u001b[49m\u001b[43m(\u001b[49m\u001b[43mtrain_text\u001b[49m\u001b[43m)\u001b[49m\n\u001b[0;32m      7\u001b[0m     update_vocab(freq_dist)\n\u001b[0;32m      8\u001b[0m     \u001b[38;5;28mprint\u001b[39m(\u001b[38;5;124mf\u001b[39m\u001b[38;5;124m\"\u001b[39m\u001b[38;5;124miteration: \u001b[39m\u001b[38;5;132;01m{\u001b[39;00m\u001b[38;5;28miter\u001b[39m\u001b[38;5;132;01m}\u001b[39;00m\u001b[38;5;124m, vocab_size: \u001b[39m\u001b[38;5;132;01m{\u001b[39;00m\u001b[38;5;28mlen\u001b[39m(decode_vocab)\u001b[38;5;132;01m}\u001b[39;00m\u001b[38;5;124m\"\u001b[39m)\n",
      "Cell \u001b[1;32mIn[14], line 7\u001b[0m, in \u001b[0;36mget_freq_dist\u001b[1;34m(corpus)\u001b[0m\n\u001b[0;32m      5\u001b[0m \u001b[38;5;28;01mwith\u001b[39;00m tqdm(total\u001b[38;5;241m=\u001b[39m\u001b[38;5;28mlen\u001b[39m(corpus), desc\u001b[38;5;241m=\u001b[39m\u001b[38;5;124m\"\u001b[39m\u001b[38;5;124mProcessing texts\u001b[39m\u001b[38;5;124m\"\u001b[39m) \u001b[38;5;28;01mas\u001b[39;00m pbar:\n\u001b[0;32m      6\u001b[0m     \u001b[38;5;28;01mfor\u001b[39;00m text \u001b[38;5;129;01min\u001b[39;00m corpus:\n\u001b[1;32m----> 7\u001b[0m         tokens \u001b[38;5;241m=\u001b[39m \u001b[43mencode\u001b[49m\u001b[43m(\u001b[49m\u001b[43mtext\u001b[49m\u001b[43m)\u001b[49m\n\u001b[0;32m      8\u001b[0m         \u001b[38;5;28;01mfor\u001b[39;00m idx \u001b[38;5;129;01min\u001b[39;00m \u001b[38;5;28mrange\u001b[39m(\u001b[38;5;28mlen\u001b[39m(tokens) \u001b[38;5;241m-\u001b[39m \u001b[38;5;241m1\u001b[39m):\n\u001b[0;32m      9\u001b[0m             freq_dist[(tokens[idx], tokens[idx \u001b[38;5;241m+\u001b[39m \u001b[38;5;241m1\u001b[39m])] \u001b[38;5;241m+\u001b[39m\u001b[38;5;241m=\u001b[39m \u001b[38;5;241m1\u001b[39m\n",
      "Cell \u001b[1;32mIn[4], line 21\u001b[0m, in \u001b[0;36mencode\u001b[1;34m(text)\u001b[0m\n\u001b[0;32m     19\u001b[0m encoded_text \u001b[38;5;241m=\u001b[39m []\n\u001b[0;32m     20\u001b[0m idx \u001b[38;5;241m=\u001b[39m \u001b[38;5;241m0\u001b[39m\n\u001b[1;32m---> 21\u001b[0m \u001b[38;5;28;01mwhile\u001b[39;00m idx \u001b[38;5;241m<\u001b[39m \u001b[38;5;28mlen\u001b[39m(tokens):\n\u001b[0;32m     22\u001b[0m     \u001b[38;5;28;01mif\u001b[39;00m tokens[idx] \u001b[38;5;241m==\u001b[39m encode_vocab[EOS_TOKEN]:\n\u001b[0;32m     23\u001b[0m         encoded_text\u001b[38;5;241m.\u001b[39mappend(tokens[idx])\n",
      "\u001b[1;31mKeyboardInterrupt\u001b[0m: "
     ]
    }
   ],
   "source": [
    "VOCAB_SIZE = 512\n",
    "num_iters = 0\n",
    "while len(decode_vocab) < VOCAB_SIZE:\n",
    "    num_iters += 1\n",
    "    freq_dist = get_freq_dist(train_text)\n",
    "    update_vocab(freq_dist)\n",
    "    print(f\"iteration: {iter}, vocab_size: {len(decode_vocab)}\")"
   ]
  },
  {
   "cell_type": "code",
   "execution_count": 11,
   "metadata": {},
   "outputs": [],
   "source": [
    "import json\n",
    "\n",
    "PAD_TOKEN = \"<PAD>\"\n",
    "decode_vocab.append(PAD_TOKEN)\n",
    "encode_vocab[PAD_TOKEN] = len(decode_vocab) - 1\n",
    "\n",
    "with open(\"vocab_v2.json\", \"w\") as f:\n",
    "    json.dump(decode_vocab, f)"
   ]
  },
  {
   "cell_type": "code",
   "execution_count": 12,
   "metadata": {},
   "outputs": [
    {
     "name": "stdout",
     "output_type": "stream",
     "text": [
      "['little', 'Once up', 'e upon a', 'on a tim', 'One day, ', ' time, ther', 'e, there was a ', ' girl ', '.\"\\n\\n', 'hing', 'Mom', ' it', '. \\n\\n', 'ear', 'ill ', 'ep', ' are', 'elt ', ' som', ' so ', ' to', \"n't \", 'care', 'um', 'd the ', 'named ', 'out ', 'le gir', ' very ', 'hen ', 'â€', 'sp', 'some', 'ter ', ' happ', ', and ', 'new', 'ful ', ' that ', 'oy ', ' saw', ' were ', 'ome ', ' him', 'che', 'loo', 'friend', 'ran', ' have', 'a b', ',\" ', 'e to', 'ed the', 'y with ', 'ain', 'bo', ' they ', 'now', 'ed and', 'ju', 'ok', ' and s', 'they', 'ying ', 'big ', ' was s', 'hou', 'ade ', ' is ', 'do', ' did', ' love', 'ud', 'man', 'use', 'smil', 'ys ', 'dde', ' ne', '\\n\\nThe ', 'low', 'old ', ' to the ', 'am', 'cit', 'y to', 'day', ' can', 'he was', '.\\n\\nThe ', 'are ', ' hel', 'ter', 's. They', ' and ', 'king ', 'e. T', 'nn', ' in the ', 'y. She']\n"
     ]
    }
   ],
   "source": [
    "print(decode_vocab[-100:])"
   ]
  },
  {
   "cell_type": "markdown",
   "metadata": {},
   "source": [
    "## Data_Loader\n",
    "- Gets a batch of train texts"
   ]
  },
  {
   "cell_type": "code",
   "execution_count": 3,
   "metadata": {},
   "outputs": [],
   "source": [
    "with open(\"vocab.json\", \"r\") as f:\n",
    "    decode_vocab = json.load(f)\n",
    "\n",
    "encode_vocab = {text: idx for idx, text in enumerate(decode_vocab)}"
   ]
  },
  {
   "cell_type": "code",
   "execution_count": 4,
   "metadata": {},
   "outputs": [],
   "source": [
    "CONTEXT_LENGTH = 256\n",
    "MAX_LEN = max([len(text) for text in train_text])\n",
    "VOCAB_SIZE = len(decode_vocab)"
   ]
  },
  {
   "cell_type": "code",
   "execution_count": 5,
   "metadata": {},
   "outputs": [],
   "source": [
    "import numpy as np\n",
    "import torch\n",
    "\n",
    "def get_batch(corpus, batch_size):\n",
    "    random_story_indexes = np.random.randint(0, len(corpus), batch_size)\n",
    "    X = []\n",
    "    y = []\n",
    "    for idx in random_story_indexes:\n",
    "        story = corpus[idx]\n",
    "        story = encode(story)\n",
    "        if len(story) <= (CONTEXT_LENGTH + 1):\n",
    "            story += [encode_vocab[PAD_TOKEN]] * (CONTEXT_LENGTH + 1 - len(story))\n",
    "            jdx = 0\n",
    "        else:\n",
    "            jdx = np.random.randint(0, len(story) - (CONTEXT_LENGTH + 1))\n",
    "        X.append(story[jdx: jdx + CONTEXT_LENGTH])\n",
    "        y.append(story[jdx + 1: jdx + CONTEXT_LENGTH + 1])\n",
    "    \n",
    "    return torch.Tensor(X).long(), torch.Tensor(y).long()\n",
    "\n",
    "# x, y = get_batch(train_text, 1)\n",
    "# print(decode(x[0]))\n",
    "# print('-'*50)\n",
    "# print(decode(y[0]))"
   ]
  },
  {
   "cell_type": "markdown",
   "metadata": {},
   "source": [
    "## Define Model\n",
    "    - Input Language Encoding Layer\n",
    "    - Positional Encoding Layer\n",
    "    - Masked Scaled Dot Product Attention --> Masked Multi Head Attention -> Multi Head Attention\n",
    "    - Decoder class\n",
    "    - Decoder Layer\n",
    "    - GPT Layer"
   ]
  },
  {
   "cell_type": "code",
   "execution_count": 6,
   "metadata": {},
   "outputs": [],
   "source": [
    "import torch.nn as nn"
   ]
  },
  {
   "cell_type": "code",
   "execution_count": 7,
   "metadata": {},
   "outputs": [],
   "source": [
    "EMBEDDING_DIM = 128\n",
    "DEVICE = torch.device(\"cuda\" if torch.cuda.is_available() else \"cpu\")"
   ]
  },
  {
   "cell_type": "code",
   "execution_count": 8,
   "metadata": {},
   "outputs": [],
   "source": [
    "def positional_encoding(context_length, embedding_dim):\n",
    "    pos = np.arange(context_length).reshape(-1, 1)\n",
    "    i = np.arange(embedding_dim).reshape(1, -1)\n",
    "    angle = pos / np.power(10000, 2 * i / embedding_dim)\n",
    "    angle[:, 0::2] = np.sin(angle[:, 0::2])\n",
    "    angle[:, 1::2] = np.cos(angle[:, 1::2])\n",
    "    return torch.Tensor(angle)"
   ]
  },
  {
   "cell_type": "code",
   "execution_count": 20,
   "metadata": {},
   "outputs": [],
   "source": [
    "## Scaled dot product attention\n",
    "## d_model = d_k = d_v ==> number of queries, keys and values\n",
    "## Always the same mistake: X is of shape (B, context_len, EMbedding_Dim) but that is only true while training. \n",
    "## We do give smaller context length while testing or generating text\n",
    "## So, we need to make sure that the model is able to handle that as well. Mask will be used for that purpose [:T, :T]\n",
    "\n",
    "## Masking also helps turn \n",
    "\n",
    "class attention_head(nn.Module):\n",
    "    def __init__(self, d_model, dropout = 0.1):\n",
    "        super().__init__()\n",
    "\n",
    "        self.d_model = d_model\n",
    "        self.K = nn.Linear(in_features = EMBEDDING_DIM, out_features = d_model, bias=False)\n",
    "        self.Q = nn.Linear(in_features = EMBEDDING_DIM, out_features = d_model, bias=False)\n",
    "        self.V = nn.Linear(in_features = EMBEDDING_DIM, out_features = d_model, bias=False)\n",
    "        self.register_buffer('mask', torch.tril(torch.ones(CONTEXT_LENGTH, CONTEXT_LENGTH)))\n",
    "        self.dropout = nn.Dropout(0.1)\n",
    "        self.softmax = nn.Softmax(dim = -1)\n",
    "\n",
    "    def forward(self, x):\n",
    "        B, T, _ = x.shape\n",
    "        Q = self.Q(x)\n",
    "        K = self.K(x)\n",
    "        V = self.V(x)\n",
    "\n",
    "        attention_scores = Q @ K.transpose(-2, -1) ## Q -> (B, L, d_model), K -> (B, d_model, L) => K.transpose(-2, -1) -> (B, L, d_model) => Q @ K.transpose(-2, -1) -> (B, L, L)\n",
    "        attention_scores /= np.sqrt(self.d_model)\n",
    "        attention_scores = attention_scores.masked_fill(self.mask[:T, :T] == 0, -1e9)\n",
    "        attention_scores = self.softmax(attention_scores) ## (B, L, L) -> (B, L, L)\n",
    "        attention_scores = self.dropout(attention_scores)\n",
    "        attention = attention_scores @ V ## (B, L, L) @ (B, L, d_model) -> (B, L, d_model)\n",
    "\n",
    "        return attention ## (B, L, d_model)\n",
    "    \n",
    "class MultiHeadAttention(nn.Module):\n",
    "    def __init__(self, num_heads, d_model, dropout = 0.1):\n",
    "        super().__init__()\n",
    "\n",
    "        self.heads = nn.ModuleList([attention_head(d_model, dropout) for _ in range(num_heads)])\n",
    "        self.linear = nn.Linear(in_features = num_heads * d_model, out_features = d_model)\n",
    "\n",
    "    def forward(self, x):\n",
    "        ## x -> (B, L, EMBEDDING_DIM)\n",
    "        attention = torch.cat([head(x) for head in self.heads], dim = -1) ## (B, L, num_heads * d_model)\n",
    "        return self.linear(attention) ## (B, L, d_model)\n",
    "    \n",
    "\n",
    "class DecoderBlock(nn.Module):\n",
    "    def __init__(self, num_heads, d_model, dropout = 0.1):\n",
    "        super().__init__()\n",
    "\n",
    "        self.multi_head_attention = MultiHeadAttention(num_heads, d_model, dropout) \n",
    "        self.norm1 = nn.LayerNorm(d_model)\n",
    "        self.feed_forward = nn.Sequential(\n",
    "            nn.Linear(in_features = d_model, out_features = 4 * d_model),\n",
    "            nn.ReLU(),\n",
    "            nn.Linear(in_features = 4 * d_model, out_features = d_model)\n",
    "        )\n",
    "        self.norm2 = nn.LayerNorm(d_model)\n",
    "\n",
    "    def forward(self, x):\n",
    "        ## x -> (B, L, EMBEDDING_DIM)\n",
    "        attention = self.multi_head_attention(x) ## (B, L, d_model)\n",
    "        x = self.norm1(x + attention) ## (B, L, d_model)\n",
    "        feed_forward = self.feed_forward(x) ## (B, L, d_model)\n",
    "        return self.norm2(x + feed_forward) ## (B, L, d_model)\n",
    "    \n",
    "class Decoder_layer(nn.Module):\n",
    "    def __init__(self, num_heads, d_model, num_layers = 6, dropout = 0.1):\n",
    "        super().__init__()\n",
    "\n",
    "        self.blocks = nn.ModuleList([DecoderBlock(num_heads, d_model, dropout) for _ in range(num_layers)])\n",
    "\n",
    "    def forward(self, x):\n",
    "        ## x -> (B, L, EMBEDDING_DIM)\n",
    "        for block in self.blocks:\n",
    "            x = block(x)\n",
    "        return x ## (B, L, d_model)\n",
    "    \n",
    "class Model(nn.Module):\n",
    "    def __init__(self, num_heads, d_model, vocab_size, dropout = 0.1):\n",
    "        super().__init__()\n",
    "\n",
    "        self.lang_embedding = nn.Embedding(num_embeddings = vocab_size, embedding_dim = EMBEDDING_DIM)\n",
    "        self.decoder = Decoder_layer(num_heads, d_model, 3, dropout) \n",
    "        self.linear = nn.Linear(in_features = d_model, out_features = vocab_size)\n",
    "        self.softmax = nn.Softmax(dim = -1)\n",
    "\n",
    "    def forward(self, x):\n",
    "        ## x -> (B, L)\n",
    "        x = self.lang_embedding(x) ## (B, L, EMBEDDING_DIM)\n",
    "        x += positional_encoding(x.shape[1], x.shape[2]).to(DEVICE)\n",
    "        x = self.decoder(x) ## (B, L, d_model)\n",
    "        x = self.linear(x) ## (B, L, vocab_size)\n",
    "        return self.softmax(x) ## (B, L, vocab_size)"
   ]
  },
  {
   "cell_type": "code",
   "execution_count": 21,
   "metadata": {},
   "outputs": [],
   "source": [
    "## Define loss function for the model\n",
    "## The model ouputs a probability distribution over the vocabulary\n",
    "## We can use cross entropy loss to calculate the loss\n",
    "\n",
    "model = Model(num_heads=8, d_model = 128, vocab_size = VOCAB_SIZE, dropout=0.3).to(DEVICE)\n",
    "criterion = nn.CrossEntropyLoss().to(DEVICE)\n",
    "optimizer = torch.optim.Adam(model.parameters(), lr = 1e-3)"
   ]
  },
  {
   "cell_type": "code",
   "execution_count": 22,
   "metadata": {},
   "outputs": [],
   "source": [
    "NUM_EPOCHS = 1\n",
    "BATCH_SIZE = 256\n",
    "NO_OF_BATCHES = len(train_text) // BATCH_SIZE\n",
    "losses = []"
   ]
  },
  {
   "cell_type": "code",
   "execution_count": 23,
   "metadata": {},
   "outputs": [],
   "source": [
    "EOS_TOKEN = \"<EOS>\"\n",
    "PAD_TOKEN = \"<PAD>\""
   ]
  },
  {
   "cell_type": "code",
   "execution_count": 24,
   "metadata": {},
   "outputs": [
    {
     "name": "stdout",
     "output_type": "stream",
     "text": [
      "Epoch: 0, Loss: 6.356118679046631\n"
     ]
    },
    {
     "ename": "KeyboardInterrupt",
     "evalue": "",
     "output_type": "error",
     "traceback": [
      "\u001b[1;31m---------------------------------------------------------------------------\u001b[0m",
      "\u001b[1;31mKeyboardInterrupt\u001b[0m                         Traceback (most recent call last)",
      "Cell \u001b[1;32mIn[24], line 4\u001b[0m\n\u001b[0;32m      2\u001b[0m \u001b[38;5;28;01mfor\u001b[39;00m batch \u001b[38;5;129;01min\u001b[39;00m \u001b[38;5;28mrange\u001b[39m(NO_OF_BATCHES):\n\u001b[0;32m      3\u001b[0m     X, y \u001b[38;5;241m=\u001b[39m get_batch(train_text, BATCH_SIZE)\n\u001b[1;32m----> 4\u001b[0m     X, y \u001b[38;5;241m=\u001b[39m \u001b[43mX\u001b[49m\u001b[38;5;241;43m.\u001b[39;49m\u001b[43mto\u001b[49m\u001b[43m(\u001b[49m\u001b[43mDEVICE\u001b[49m\u001b[43m)\u001b[49m, y\u001b[38;5;241m.\u001b[39mto(DEVICE)\n\u001b[0;32m      6\u001b[0m     optimizer\u001b[38;5;241m.\u001b[39mzero_grad()\n\u001b[0;32m      7\u001b[0m     y_pred \u001b[38;5;241m=\u001b[39m model(X)\n",
      "\u001b[1;31mKeyboardInterrupt\u001b[0m: "
     ]
    }
   ],
   "source": [
    "for epoch in range(NUM_EPOCHS):\n",
    "    for batch in range(NO_OF_BATCHES):\n",
    "        X, y = get_batch(train_text, BATCH_SIZE)\n",
    "        X, y = X.to(DEVICE), y.to(DEVICE)\n",
    "\n",
    "        optimizer.zero_grad()\n",
    "        y_pred = model(X)\n",
    "        loss = criterion(y_pred.view(-1, VOCAB_SIZE), y.view(-1))\n",
    "        loss.backward()\n",
    "        optimizer.step()\n",
    "\n",
    "        if batch % 1000 == 0:\n",
    "            print(f\"Epoch: {batch}, Loss: {loss.item()}\")\n",
    "            losses.append(loss.item())"
   ]
  },
  {
   "cell_type": "code",
   "execution_count": 180,
   "metadata": {},
   "outputs": [
    {
     "data": {
      "text/plain": [
       "[<matplotlib.lines.Line2D at 0x11c60bcfe00>]"
      ]
     },
     "execution_count": 180,
     "metadata": {},
     "output_type": "execute_result"
    },
    {
     "data": {
      "image/png": "[encoded data removed]",
      "text/plain": [
       "<Figure size 640x480 with 1 Axes>"
      ]
     },
     "metadata": {},
     "output_type": "display_data"
    }
   ],
   "source": [
    "plt.plot(losses)"
   ]
  },
  {
   "cell_type": "code",
   "execution_count": null,
   "metadata": {},
   "outputs": [],
   "source": [
    "def generate_text(model, context, length = 256):\n",
    "    model.eval()\n",
    "    with torch.no_grad():\n",
    "        context = encode(context)\n",
    "        context = context[:-1]\n",
    "        context = torch.Tensor(context).long().to(DEVICE)\n",
    "        for _ in range(length):\n",
    "            y_pred = model(context.unsqueeze(0)[:,-CONTEXT_LENGTH:])\n",
    "            # next_token = torch.multinomial(y_pred[0, -1], 1).item()\n",
    "            next_token = torch.argmax(y_pred[0, -1]).item()\n",
    "            context = torch.cat([context, torch.Tensor([next_token]).long().to(DEVICE)])\n",
    "    \n",
    "    return decode(context)"
   ]
  },
  {
   "cell_type": "code",
   "execution_count": 184,
   "metadata": {},
   "outputs": [
    {
     "name": "stdout",
     "output_type": "stream",
     "text": [
      "torch.Size([1, 3, 576])\n",
      "torch.Size([1, 4, 576])\n",
      "torch.Size([1, 5, 576])\n",
      "torch.Size([1, 6, 576])\n",
      "torch.Size([1, 7, 576])\n",
      "torch.Size([1, 8, 576])\n",
      "torch.Size([1, 9, 576])\n",
      "torch.Size([1, 10, 576])\n",
      "torch.Size([1, 11, 576])\n",
      "torch.Size([1, 12, 576])\n",
      "torch.Size([1, 13, 576])\n",
      "torch.Size([1, 14, 576])\n",
      "torch.Size([1, 15, 576])\n",
      "torch.Size([1, 16, 576])\n",
      "torch.Size([1, 17, 576])\n",
      "torch.Size([1, 18, 576])\n",
      "torch.Size([1, 19, 576])\n",
      "torch.Size([1, 20, 576])\n",
      "torch.Size([1, 21, 576])\n",
      "torch.Size([1, 22, 576])\n",
      "torch.Size([1, 23, 576])\n",
      "torch.Size([1, 24, 576])\n",
      "torch.Size([1, 25, 576])\n",
      "torch.Size([1, 26, 576])\n",
      "torch.Size([1, 27, 576])\n",
      "torch.Size([1, 28, 576])\n",
      "torch.Size([1, 29, 576])\n",
      "torch.Size([1, 30, 576])\n",
      "torch.Size([1, 31, 576])\n",
      "torch.Size([1, 32, 576])\n",
      "torch.Size([1, 33, 576])\n",
      "torch.Size([1, 34, 576])\n",
      "torch.Size([1, 35, 576])\n",
      "torch.Size([1, 36, 576])\n",
      "torch.Size([1, 37, 576])\n",
      "torch.Size([1, 38, 576])\n",
      "torch.Size([1, 39, 576])\n",
      "torch.Size([1, 40, 576])\n",
      "torch.Size([1, 41, 576])\n",
      "torch.Size([1, 42, 576])\n",
      "torch.Size([1, 43, 576])\n",
      "torch.Size([1, 44, 576])\n",
      "torch.Size([1, 45, 576])\n",
      "torch.Size([1, 46, 576])\n",
      "torch.Size([1, 47, 576])\n",
      "torch.Size([1, 48, 576])\n",
      "torch.Size([1, 49, 576])\n",
      "torch.Size([1, 50, 576])\n",
      "torch.Size([1, 51, 576])\n",
      "torch.Size([1, 52, 576])\n",
      "torch.Size([1, 53, 576])\n",
      "torch.Size([1, 54, 576])\n",
      "torch.Size([1, 55, 576])\n",
      "torch.Size([1, 56, 576])\n",
      "torch.Size([1, 57, 576])\n",
      "torch.Size([1, 58, 576])\n",
      "torch.Size([1, 59, 576])\n",
      "torch.Size([1, 60, 576])\n",
      "torch.Size([1, 61, 576])\n",
      "torch.Size([1, 62, 576])\n",
      "torch.Size([1, 63, 576])\n",
      "torch.Size([1, 64, 576])\n",
      "torch.Size([1, 65, 576])\n",
      "torch.Size([1, 66, 576])\n",
      "torch.Size([1, 67, 576])\n",
      "torch.Size([1, 68, 576])\n",
      "torch.Size([1, 69, 576])\n",
      "torch.Size([1, 70, 576])\n",
      "torch.Size([1, 71, 576])\n",
      "torch.Size([1, 72, 576])\n",
      "torch.Size([1, 73, 576])\n",
      "torch.Size([1, 74, 576])\n",
      "torch.Size([1, 75, 576])\n",
      "torch.Size([1, 76, 576])\n",
      "torch.Size([1, 77, 576])\n",
      "torch.Size([1, 78, 576])\n",
      "torch.Size([1, 79, 576])\n",
      "torch.Size([1, 80, 576])\n",
      "torch.Size([1, 81, 576])\n",
      "torch.Size([1, 82, 576])\n",
      "torch.Size([1, 83, 576])\n",
      "torch.Size([1, 84, 576])\n",
      "torch.Size([1, 85, 576])\n",
      "torch.Size([1, 86, 576])\n",
      "torch.Size([1, 87, 576])\n",
      "torch.Size([1, 88, 576])\n",
      "torch.Size([1, 89, 576])\n",
      "torch.Size([1, 90, 576])\n",
      "torch.Size([1, 91, 576])\n",
      "torch.Size([1, 92, 576])\n",
      "torch.Size([1, 93, 576])\n",
      "torch.Size([1, 94, 576])\n",
      "torch.Size([1, 95, 576])\n",
      "torch.Size([1, 96, 576])\n",
      "torch.Size([1, 97, 576])\n",
      "torch.Size([1, 98, 576])\n",
      "torch.Size([1, 99, 576])\n",
      "torch.Size([1, 100, 576])\n",
      "torch.Size([1, 101, 576])\n",
      "torch.Size([1, 102, 576])\n",
      "torch.Size([1, 103, 576])\n",
      "torch.Size([1, 104, 576])\n",
      "torch.Size([1, 105, 576])\n",
      "torch.Size([1, 106, 576])\n",
      "torch.Size([1, 107, 576])\n",
      "torch.Size([1, 108, 576])\n",
      "torch.Size([1, 109, 576])\n",
      "torch.Size([1, 110, 576])\n",
      "torch.Size([1, 111, 576])\n",
      "torch.Size([1, 112, 576])\n",
      "torch.Size([1, 113, 576])\n",
      "torch.Size([1, 114, 576])\n",
      "torch.Size([1, 115, 576])\n",
      "torch.Size([1, 116, 576])\n",
      "torch.Size([1, 117, 576])\n",
      "torch.Size([1, 118, 576])\n",
      "torch.Size([1, 119, 576])\n",
      "torch.Size([1, 120, 576])\n",
      "torch.Size([1, 121, 576])\n",
      "torch.Size([1, 122, 576])\n",
      "torch.Size([1, 123, 576])\n",
      "torch.Size([1, 124, 576])\n",
      "torch.Size([1, 125, 576])\n",
      "torch.Size([1, 126, 576])\n",
      "torch.Size([1, 127, 576])\n",
      "torch.Size([1, 128, 576])\n",
      "torch.Size([1, 129, 576])\n",
      "torch.Size([1, 130, 576])\n",
      "torch.Size([1, 131, 576])\n",
      "torch.Size([1, 132, 576])\n",
      "torch.Size([1, 133, 576])\n",
      "torch.Size([1, 134, 576])\n",
      "torch.Size([1, 135, 576])\n",
      "torch.Size([1, 136, 576])\n",
      "torch.Size([1, 137, 576])\n",
      "torch.Size([1, 138, 576])\n",
      "torch.Size([1, 139, 576])\n",
      "torch.Size([1, 140, 576])\n",
      "torch.Size([1, 141, 576])\n",
      "torch.Size([1, 142, 576])\n",
      "torch.Size([1, 143, 576])\n",
      "torch.Size([1, 144, 576])\n",
      "torch.Size([1, 145, 576])\n",
      "torch.Size([1, 146, 576])\n",
      "torch.Size([1, 147, 576])\n",
      "torch.Size([1, 148, 576])\n",
      "torch.Size([1, 149, 576])\n",
      "torch.Size([1, 150, 576])\n",
      "torch.Size([1, 151, 576])\n",
      "torch.Size([1, 152, 576])\n",
      "torch.Size([1, 153, 576])\n",
      "torch.Size([1, 154, 576])\n",
      "torch.Size([1, 155, 576])\n",
      "torch.Size([1, 156, 576])\n",
      "torch.Size([1, 157, 576])\n",
      "torch.Size([1, 158, 576])\n",
      "torch.Size([1, 159, 576])\n",
      "torch.Size([1, 160, 576])\n",
      "torch.Size([1, 161, 576])\n",
      "torch.Size([1, 162, 576])\n",
      "torch.Size([1, 163, 576])\n",
      "torch.Size([1, 164, 576])\n",
      "torch.Size([1, 165, 576])\n",
      "torch.Size([1, 166, 576])\n",
      "torch.Size([1, 167, 576])\n",
      "torch.Size([1, 168, 576])\n",
      "torch.Size([1, 169, 576])\n",
      "torch.Size([1, 170, 576])\n",
      "torch.Size([1, 171, 576])\n",
      "torch.Size([1, 172, 576])\n",
      "torch.Size([1, 173, 576])\n",
      "torch.Size([1, 174, 576])\n",
      "torch.Size([1, 175, 576])\n",
      "torch.Size([1, 176, 576])\n",
      "torch.Size([1, 177, 576])\n",
      "torch.Size([1, 178, 576])\n",
      "torch.Size([1, 179, 576])\n",
      "torch.Size([1, 180, 576])\n",
      "torch.Size([1, 181, 576])\n",
      "torch.Size([1, 182, 576])\n",
      "torch.Size([1, 183, 576])\n",
      "torch.Size([1, 184, 576])\n",
      "torch.Size([1, 185, 576])\n",
      "torch.Size([1, 186, 576])\n",
      "torch.Size([1, 187, 576])\n",
      "torch.Size([1, 188, 576])\n",
      "torch.Size([1, 189, 576])\n",
      "torch.Size([1, 190, 576])\n",
      "torch.Size([1, 191, 576])\n",
      "torch.Size([1, 192, 576])\n",
      "torch.Size([1, 193, 576])\n",
      "torch.Size([1, 194, 576])\n",
      "torch.Size([1, 195, 576])\n",
      "torch.Size([1, 196, 576])\n",
      "torch.Size([1, 197, 576])\n",
      "torch.Size([1, 198, 576])\n",
      "torch.Size([1, 199, 576])\n",
      "torch.Size([1, 200, 576])\n",
      "torch.Size([1, 201, 576])\n",
      "torch.Size([1, 202, 576])\n",
      "torch.Size([1, 203, 576])\n",
      "torch.Size([1, 204, 576])\n",
      "torch.Size([1, 205, 576])\n",
      "torch.Size([1, 206, 576])\n",
      "torch.Size([1, 207, 576])\n",
      "torch.Size([1, 208, 576])\n",
      "torch.Size([1, 209, 576])\n",
      "torch.Size([1, 210, 576])\n",
      "torch.Size([1, 211, 576])\n",
      "torch.Size([1, 212, 576])\n",
      "torch.Size([1, 213, 576])\n",
      "torch.Size([1, 214, 576])\n",
      "torch.Size([1, 215, 576])\n",
      "torch.Size([1, 216, 576])\n",
      "torch.Size([1, 217, 576])\n",
      "torch.Size([1, 218, 576])\n",
      "torch.Size([1, 219, 576])\n",
      "torch.Size([1, 220, 576])\n",
      "torch.Size([1, 221, 576])\n",
      "torch.Size([1, 222, 576])\n",
      "torch.Size([1, 223, 576])\n",
      "torch.Size([1, 224, 576])\n",
      "torch.Size([1, 225, 576])\n",
      "torch.Size([1, 226, 576])\n",
      "torch.Size([1, 227, 576])\n",
      "torch.Size([1, 228, 576])\n",
      "torch.Size([1, 229, 576])\n",
      "torch.Size([1, 230, 576])\n",
      "torch.Size([1, 231, 576])\n",
      "torch.Size([1, 232, 576])\n",
      "torch.Size([1, 233, 576])\n",
      "torch.Size([1, 234, 576])\n",
      "torch.Size([1, 235, 576])\n",
      "torch.Size([1, 236, 576])\n",
      "torch.Size([1, 237, 576])\n",
      "torch.Size([1, 238, 576])\n",
      "torch.Size([1, 239, 576])\n",
      "torch.Size([1, 240, 576])\n",
      "torch.Size([1, 241, 576])\n",
      "torch.Size([1, 242, 576])\n",
      "torch.Size([1, 243, 576])\n",
      "torch.Size([1, 244, 576])\n",
      "torch.Size([1, 245, 576])\n",
      "torch.Size([1, 246, 576])\n",
      "torch.Size([1, 247, 576])\n",
      "torch.Size([1, 248, 576])\n",
      "torch.Size([1, 249, 576])\n",
      "torch.Size([1, 250, 576])\n",
      "torch.Size([1, 251, 576])\n",
      "torch.Size([1, 252, 576])\n",
      "torch.Size([1, 253, 576])\n",
      "torch.Size([1, 254, 576])\n",
      "torch.Size([1, 255, 576])\n",
      "torch.Size([1, 256, 576])\n",
      "torch.Size([1, 256, 576])\n",
      "torch.Size([1, 256, 576])\n"
     ]
    },
    {
     "data": {
      "text/plain": [
       "'Once upon a timee wn, wn, wn, wn, w as, wn, wn, wn, wn, wn, wn, wn, wn, wn, wn, wn, wn, wn, wn, wn, wn, wn, wn, wn, wn, wn, wn, wn, wn, wn, wn, wn, wn, wn, wn, wn, wn, wn, wn, wn, wn, wn, wn, wn, wn, wn, wn, wn, wn, wn, wn, wn, wn, wn, wn, wn, wn, wn, wn, wn, wn, wn, wn, wn, wn, wn, wn, wn, wn, wn, wn, wn, wn, wn, wn, wn, wn, wn, wn, wn, wn, wn, wn, wn, wn'"
      ]
     },
     "execution_count": 184,
     "metadata": {},
     "output_type": "execute_result"
    }
   ],
   "source": [
    "generate_text(model, \"Once upon a time\")"
   ]
  },
  {
   "cell_type": "code",
   "execution_count": null,
   "metadata": {},
   "outputs": [],
   "source": [
    "# for param_group in optimizer.param_groups:\n",
    "#     param_group['lr'] = 1e-4\n",
    "\n",
    "# model_path = 'my_model_state_dict.pth'\n",
    "# torch.save(model.state_dict(), model_path)\n",
    "\n",
    "\n",
    "# # Assuming you have the same model architecture as before\n",
    "# loaded_model = model()  # Instantiate your model class\n",
    "# loaded_model.load_state_dict(torch.load(model_path))\n",
    "# loaded_model.eval()  # Set the model to evaluation mode"
   ]
  }
 ],
 "metadata": {
  "kernelspec": {
   "display_name": "Python 3",
   "language": "python",
   "name": "python3"
  },
  "language_info": {
   "codemirror_mode": {
    "name": "ipython",
    "version": 3
   },
   "file_extension": ".py",
   "mimetype": "text/x-python",
   "name": "python",
   "nbconvert_exporter": "python",
   "pygments_lexer": "ipython3",
   "version": "3.12.2"
  }
 },
 "nbformat": 4,
 "nbformat_minor": 2
}
